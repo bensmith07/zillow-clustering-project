{
 "cells": [
  {
   "cell_type": "code",
   "execution_count": 1,
   "id": "12d56e13",
   "metadata": {},
   "outputs": [],
   "source": [
    "import numpy as np\n",
    "import pandas as pd\n",
    "import matplotlib.pyplot as plt\n",
    "import seaborn as sns\n",
    "\n",
    "import acquire\n",
    "import prepare\n",
    "\n",
    "pd.set_option('display.max_rows', 100)\n",
    "pd.set_option('display.max_columns', 100)\n",
    "\n",
    "import warnings\n",
    "warnings.filterwarnings('ignore')\n",
    "\n",
    "from sklearn.cluster import KMeans\n",
    "\n",
    "import scipy.stats as stats\n",
    "\n",
    "random_state = 42"
   ]
  },
  {
   "cell_type": "code",
   "execution_count": 2,
   "id": "bed6b877",
   "metadata": {},
   "outputs": [
    {
     "name": "stdout",
     "output_type": "stream",
     "text": [
      "Reading from local CSV...\n"
     ]
    }
   ],
   "source": [
    "df = acquire.zillow_data()"
   ]
  },
  {
   "cell_type": "code",
   "execution_count": 3,
   "id": "e0b88f05",
   "metadata": {},
   "outputs": [
    {
     "name": "stdout",
     "output_type": "stream",
     "text": [
      "train\t n = 29001\n",
      "test\t n = 10358\n",
      "validate n = 12429\n"
     ]
    }
   ],
   "source": [
    "df = prepare.prep_zillow(df)\n",
    "train, validate, test = prepare.train_validate_test_split(df)\n",
    "target = 'logerror'"
   ]
  },
  {
   "cell_type": "code",
   "execution_count": 4,
   "id": "0e023a13",
   "metadata": {},
   "outputs": [
    {
     "name": "stdout",
     "output_type": "stream",
     "text": [
      "train\t n = 15874\n",
      "test\t n = 5731\n",
      "validate n = 6750\n"
     ]
    }
   ],
   "source": [
    "outlier_columns = [col for col in df.columns if ((df[col].dtype != 'object') & (col not in [target, 'latitude', 'longitude']))]\n",
    "train, validate, test = prepare.remove_outliers(train, validate, test, 3, outlier_columns)"
   ]
  },
  {
   "cell_type": "code",
   "execution_count": 5,
   "id": "7c38cf78",
   "metadata": {},
   "outputs": [],
   "source": [
    "train, validate, test = prepare.scale_zillow(train, validate, test, target)\n",
    "train, validate, test = prepare.encode_zillow(train, validate, test, target)"
   ]
  },
  {
   "cell_type": "markdown",
   "id": "654c8167",
   "metadata": {},
   "source": [
    "#### adding cluster features"
   ]
  },
  {
   "cell_type": "code",
   "execution_count": 6,
   "id": "ebeb90fe",
   "metadata": {},
   "outputs": [],
   "source": [
    "def add_clusters(train, validate, test):\n",
    "    \n",
    "    # cluster_BedBath\n",
    "\n",
    "    features = ['scaled_bedroomcnt', 'scaled_bathroomcnt']\n",
    "    x = train[features]\n",
    "    kmeans = KMeans(n_clusters=3, random_state=random_state)\n",
    "    kmeans.fit(x)\n",
    "\n",
    "    for sample in [train, validate, test]:\n",
    "        x = sample[features]\n",
    "        sample['cluster_BedBath'] = kmeans.predict(x)\n",
    "        sample['cluster_BedBath'] = sample.cluster_BedBath.map({1:'low', 0:'mid', 2:'high'})\n",
    "\n",
    "\n",
    "    # cluster_BedBathSqft\n",
    "\n",
    "    features = ['scaled_bedroomcnt', 'scaled_bathroomcnt', 'scaled_sqft']\n",
    "    x = train[features]\n",
    "    kmeans = KMeans(n_clusters=3, random_state=random_state)\n",
    "    kmeans.fit(x)\n",
    "\n",
    "    for sample in [train, validate, test]:\n",
    "        x = sample[features]\n",
    "        sample['cluster_BedBathSqft'] = kmeans.predict(x)\n",
    "        sample['cluster_BedBathSqft'] = sample.cluster_BedBathSqft.map({1:'low', 0:'mid', 2:'high'})\n",
    "\n",
    "    # cluster_LatLong\n",
    "    features = ['scaled_latitude', 'scaled_longitude']\n",
    "    x = train[features]\n",
    "    kmeans = KMeans(n_clusters=4, random_state=random_state)\n",
    "    kmeans.fit(x)\n",
    "\n",
    "    for sample in [train, validate, test]:\n",
    "        x = sample[features]\n",
    "        sample['cluster_LatLong'] = kmeans.predict(x)\n",
    "        sample['cluster_LatLong'] = sample.cluster_LatLong.map({0:'east', 1:'central', 2:'west', 3:'north'})\n",
    "\n",
    "    # cluster_BedBathTaxvaluepersqft\n",
    "    featyres = ['scaled_bedroomcnt', 'scaled_bathroomcnt', 'scaled_taxvalue_per_sqft']\n",
    "    x = train[features]\n",
    "    kmeans = KMeans(n_clusters=3, random_state=random_state)\n",
    "    kmeans.fit(x)\n",
    "\n",
    "    for sample in [train, validate, test]:\n",
    "        x = sample[features]\n",
    "        sample['cluster_BedBathTaxvaluepersqft'] = kmeans.predict(x)\n",
    "\n",
    "    return train, validate, test"
   ]
  },
  {
   "cell_type": "code",
   "execution_count": 7,
   "id": "a30cc03a",
   "metadata": {},
   "outputs": [],
   "source": [
    "train, validate, test = prepare.add_clusters(train, validate, test)"
   ]
  },
  {
   "cell_type": "code",
   "execution_count": 8,
   "id": "7919e436",
   "metadata": {},
   "outputs": [
    {
     "data": {
      "text/html": [
       "<div>\n",
       "<style scoped>\n",
       "    .dataframe tbody tr th:only-of-type {\n",
       "        vertical-align: middle;\n",
       "    }\n",
       "\n",
       "    .dataframe tbody tr th {\n",
       "        vertical-align: top;\n",
       "    }\n",
       "\n",
       "    .dataframe thead th {\n",
       "        text-align: right;\n",
       "    }\n",
       "</style>\n",
       "<table border=\"1\" class=\"dataframe\">\n",
       "  <thead>\n",
       "    <tr style=\"text-align: right;\">\n",
       "      <th></th>\n",
       "      <th>cluster_BedBath</th>\n",
       "      <th>cluster_BedBathSqft</th>\n",
       "      <th>cluster_LatLong</th>\n",
       "      <th>cluster_BedBathTaxvaluepersqft</th>\n",
       "    </tr>\n",
       "  </thead>\n",
       "  <tbody>\n",
       "    <tr>\n",
       "      <th>23280</th>\n",
       "      <td>mid</td>\n",
       "      <td>mid</td>\n",
       "      <td>north</td>\n",
       "      <td>0</td>\n",
       "    </tr>\n",
       "    <tr>\n",
       "      <th>55542</th>\n",
       "      <td>mid</td>\n",
       "      <td>mid</td>\n",
       "      <td>west</td>\n",
       "      <td>2</td>\n",
       "    </tr>\n",
       "    <tr>\n",
       "      <th>7420</th>\n",
       "      <td>low</td>\n",
       "      <td>low</td>\n",
       "      <td>central</td>\n",
       "      <td>2</td>\n",
       "    </tr>\n",
       "    <tr>\n",
       "      <th>68942</th>\n",
       "      <td>high</td>\n",
       "      <td>high</td>\n",
       "      <td>west</td>\n",
       "      <td>2</td>\n",
       "    </tr>\n",
       "    <tr>\n",
       "      <th>67157</th>\n",
       "      <td>low</td>\n",
       "      <td>low</td>\n",
       "      <td>central</td>\n",
       "      <td>1</td>\n",
       "    </tr>\n",
       "  </tbody>\n",
       "</table>\n",
       "</div>"
      ],
      "text/plain": [
       "      cluster_BedBath cluster_BedBathSqft cluster_LatLong  \\\n",
       "23280             mid                 mid           north   \n",
       "55542             mid                 mid            west   \n",
       "7420              low                 low         central   \n",
       "68942            high                high            west   \n",
       "67157             low                 low         central   \n",
       "\n",
       "       cluster_BedBathTaxvaluepersqft  \n",
       "23280                               0  \n",
       "55542                               2  \n",
       "7420                                2  \n",
       "68942                               2  \n",
       "67157                               1  "
      ]
     },
     "execution_count": 8,
     "metadata": {},
     "output_type": "execute_result"
    }
   ],
   "source": [
    "train[[col for col in train.columns if 'cluster_' in col]].head()"
   ]
  },
  {
   "cell_type": "code",
   "execution_count": 9,
   "id": "bbe737e9",
   "metadata": {},
   "outputs": [
    {
     "data": {
      "text/html": [
       "<div>\n",
       "<style scoped>\n",
       "    .dataframe tbody tr th:only-of-type {\n",
       "        vertical-align: middle;\n",
       "    }\n",
       "\n",
       "    .dataframe tbody tr th {\n",
       "        vertical-align: top;\n",
       "    }\n",
       "\n",
       "    .dataframe thead th {\n",
       "        text-align: right;\n",
       "    }\n",
       "</style>\n",
       "<table border=\"1\" class=\"dataframe\">\n",
       "  <thead>\n",
       "    <tr style=\"text-align: right;\">\n",
       "      <th></th>\n",
       "      <th>cluster_BedBath</th>\n",
       "      <th>cluster_BedBathSqft</th>\n",
       "      <th>cluster_LatLong</th>\n",
       "      <th>cluster_BedBathTaxvaluepersqft</th>\n",
       "    </tr>\n",
       "  </thead>\n",
       "  <tbody>\n",
       "    <tr>\n",
       "      <th>71548</th>\n",
       "      <td>high</td>\n",
       "      <td>high</td>\n",
       "      <td>east</td>\n",
       "      <td>1</td>\n",
       "    </tr>\n",
       "    <tr>\n",
       "      <th>59584</th>\n",
       "      <td>low</td>\n",
       "      <td>low</td>\n",
       "      <td>central</td>\n",
       "      <td>1</td>\n",
       "    </tr>\n",
       "    <tr>\n",
       "      <th>41011</th>\n",
       "      <td>high</td>\n",
       "      <td>high</td>\n",
       "      <td>east</td>\n",
       "      <td>1</td>\n",
       "    </tr>\n",
       "    <tr>\n",
       "      <th>19700</th>\n",
       "      <td>high</td>\n",
       "      <td>high</td>\n",
       "      <td>north</td>\n",
       "      <td>0</td>\n",
       "    </tr>\n",
       "    <tr>\n",
       "      <th>33495</th>\n",
       "      <td>mid</td>\n",
       "      <td>mid</td>\n",
       "      <td>east</td>\n",
       "      <td>1</td>\n",
       "    </tr>\n",
       "  </tbody>\n",
       "</table>\n",
       "</div>"
      ],
      "text/plain": [
       "      cluster_BedBath cluster_BedBathSqft cluster_LatLong  \\\n",
       "71548            high                high            east   \n",
       "59584             low                 low         central   \n",
       "41011            high                high            east   \n",
       "19700            high                high           north   \n",
       "33495             mid                 mid            east   \n",
       "\n",
       "       cluster_BedBathTaxvaluepersqft  \n",
       "71548                               1  \n",
       "59584                               1  \n",
       "41011                               1  \n",
       "19700                               0  \n",
       "33495                               1  "
      ]
     },
     "execution_count": 9,
     "metadata": {},
     "output_type": "execute_result"
    }
   ],
   "source": [
    "validate[[col for col in train.columns if 'cluster_' in col]].head()"
   ]
  },
  {
   "cell_type": "code",
   "execution_count": 10,
   "id": "218c7c29",
   "metadata": {},
   "outputs": [
    {
     "data": {
      "text/html": [
       "<div>\n",
       "<style scoped>\n",
       "    .dataframe tbody tr th:only-of-type {\n",
       "        vertical-align: middle;\n",
       "    }\n",
       "\n",
       "    .dataframe tbody tr th {\n",
       "        vertical-align: top;\n",
       "    }\n",
       "\n",
       "    .dataframe thead th {\n",
       "        text-align: right;\n",
       "    }\n",
       "</style>\n",
       "<table border=\"1\" class=\"dataframe\">\n",
       "  <thead>\n",
       "    <tr style=\"text-align: right;\">\n",
       "      <th></th>\n",
       "      <th>cluster_BedBath</th>\n",
       "      <th>cluster_BedBathSqft</th>\n",
       "      <th>cluster_LatLong</th>\n",
       "      <th>cluster_BedBathTaxvaluepersqft</th>\n",
       "    </tr>\n",
       "  </thead>\n",
       "  <tbody>\n",
       "    <tr>\n",
       "      <th>46416</th>\n",
       "      <td>mid</td>\n",
       "      <td>mid</td>\n",
       "      <td>central</td>\n",
       "      <td>1</td>\n",
       "    </tr>\n",
       "    <tr>\n",
       "      <th>47163</th>\n",
       "      <td>mid</td>\n",
       "      <td>mid</td>\n",
       "      <td>west</td>\n",
       "      <td>2</td>\n",
       "    </tr>\n",
       "    <tr>\n",
       "      <th>39040</th>\n",
       "      <td>mid</td>\n",
       "      <td>mid</td>\n",
       "      <td>west</td>\n",
       "      <td>2</td>\n",
       "    </tr>\n",
       "    <tr>\n",
       "      <th>50404</th>\n",
       "      <td>low</td>\n",
       "      <td>low</td>\n",
       "      <td>central</td>\n",
       "      <td>1</td>\n",
       "    </tr>\n",
       "    <tr>\n",
       "      <th>15572</th>\n",
       "      <td>mid</td>\n",
       "      <td>mid</td>\n",
       "      <td>east</td>\n",
       "      <td>1</td>\n",
       "    </tr>\n",
       "  </tbody>\n",
       "</table>\n",
       "</div>"
      ],
      "text/plain": [
       "      cluster_BedBath cluster_BedBathSqft cluster_LatLong  \\\n",
       "46416             mid                 mid         central   \n",
       "47163             mid                 mid            west   \n",
       "39040             mid                 mid            west   \n",
       "50404             low                 low         central   \n",
       "15572             mid                 mid            east   \n",
       "\n",
       "       cluster_BedBathTaxvaluepersqft  \n",
       "46416                               1  \n",
       "47163                               2  \n",
       "39040                               2  \n",
       "50404                               1  \n",
       "15572                               1  "
      ]
     },
     "execution_count": 10,
     "metadata": {},
     "output_type": "execute_result"
    }
   ],
   "source": [
    "test[[col for col in train.columns if 'cluster_' in col]].head()"
   ]
  },
  {
   "cell_type": "code",
   "execution_count": null,
   "id": "18e7c414",
   "metadata": {},
   "outputs": [],
   "source": []
  }
 ],
 "metadata": {
  "kernelspec": {
   "display_name": "Python 3 (ipykernel)",
   "language": "python",
   "name": "python3"
  },
  "language_info": {
   "codemirror_mode": {
    "name": "ipython",
    "version": 3
   },
   "file_extension": ".py",
   "mimetype": "text/x-python",
   "name": "python",
   "nbconvert_exporter": "python",
   "pygments_lexer": "ipython3",
   "version": "3.9.7"
  }
 },
 "nbformat": 4,
 "nbformat_minor": 5
}
